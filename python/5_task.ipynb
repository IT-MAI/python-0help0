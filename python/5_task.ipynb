{
 "cells": [
  {
   "cell_type": "markdown",
   "id": "85755de8",
   "metadata": {},
   "source": [
    "# Самостоятельное задание #5\n",
    "\n",
    "\n",
    "### Задание 1\n",
    "\n",
    "Допишите функцию, которая принимает список, выбирает из него все элементы с четным индексом и возвращает их в виде списка."
   ]
  },
  {
   "cell_type": "code",
   "execution_count": 1,
   "id": "6ef6d9b3",
   "metadata": {},
   "outputs": [
    {
     "name": "stdout",
     "output_type": "stream",
     "text": [
      "[1, 2, 4, 2, 2]\n"
     ]
    }
   ],
   "source": [
    "array = [1,2,2,3,4,3,2,3,2]\n",
    "nums = array\n",
    "nums_2 = []\n",
    "for i in range(0, len(nums), 2):\n",
    "    nums_2.append(nums[i])\n",
    "print(nums_2)"
   ]
  },
  {
   "cell_type": "markdown",
   "id": "443974c9",
   "metadata": {},
   "source": [
    "### Задание 2\n",
    "\n",
    "Допишите функцию, которая принимает список, выбирает из него все элементы, которые больше предыдущего и возвращает их в виде списка.\n"
   ]
  },
  {
   "cell_type": "code",
   "execution_count": 3,
   "id": "3a8cf925",
   "metadata": {},
   "outputs": [
    {
     "name": "stdout",
     "output_type": "stream",
     "text": [
      "1\n",
      "[]\n"
     ]
    }
   ],
   "source": [
    "b = [int(i) for i in input().split()]\n",
    "b1 = []\n",
    "for i in range(len(b)):\n",
    "    if b[i] > b[i-1]:\n",
    "        b1.append(b[i])\n",
    "print(b1)"
   ]
  },
  {
   "cell_type": "markdown",
   "id": "34524ede",
   "metadata": {},
   "source": [
    "### Задание 3\n",
    "\n",
    "Допишите функцию, которая принимает список, меняет местами наибольший и наименьший элементы и возвращает этот список."
   ]
  },
  {
   "cell_type": "code",
   "execution_count": 6,
   "id": "34d2beae",
   "metadata": {},
   "outputs": [
    {
     "name": "stdout",
     "output_type": "stream",
     "text": [
      "1 2 2 5 6 7 98\n",
      "98 2 2 5 6 7 1\n"
     ]
    }
   ],
   "source": [
    "k = [int(s) for s in input().split()]\n",
    "imin = 0\n",
    "imax = 0\n",
    "for i in range(1, len(k)):\n",
    "    if k[i] > k[imax]:\n",
    "        imax = i\n",
    "    if k[i] < k[imin]:\n",
    "        imin = i\n",
    "k[imin], k[imax] = k[imax], k[imin]\n",
    "print(' '.join([str(i) for i in k]))"
   ]
  },
  {
   "cell_type": "markdown",
   "id": "fe74b87c",
   "metadata": {},
   "source": []
  }
 ],
 "metadata": {
  "kernelspec": {
   "display_name": "Python 3",
   "language": "python",
   "name": "python3"
  },
  "language_info": {
   "codemirror_mode": {
    "name": "ipython",
    "version": 3
   },
   "file_extension": ".py",
   "mimetype": "text/x-python",
   "name": "python",
   "nbconvert_exporter": "python",
   "pygments_lexer": "ipython3",
   "version": "3.8.8"
  }
 },
 "nbformat": 4,
 "nbformat_minor": 5
}
